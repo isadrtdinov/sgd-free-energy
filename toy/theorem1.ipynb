{
 "cells": [
  {
   "cell_type": "code",
   "execution_count": 1,
   "id": "49d74069",
   "metadata": {},
   "outputs": [],
   "source": [
    "from sympy import * "
   ]
  },
  {
   "cell_type": "code",
   "execution_count": 2,
   "id": "7393eb42",
   "metadata": {},
   "outputs": [],
   "source": [
    "S, R = symbols(\"S R\")"
   ]
  },
  {
   "cell_type": "code",
   "execution_count": 3,
   "id": "f25766ae",
   "metadata": {},
   "outputs": [],
   "source": [
    "M = S * (1 - R) ** 2 + (1 - S) * R ** 2\n",
    "P = (S * (1 - R) + (1 - S) * R) ** 2\n",
    "Q = 4 * S * (1 - S)"
   ]
  },
  {
   "cell_type": "code",
   "execution_count": 4,
   "id": "6e9bc5d7",
   "metadata": {},
   "outputs": [],
   "source": [
    "result = (M * Q - P).expand()"
   ]
  },
  {
   "cell_type": "code",
   "execution_count": 5,
   "id": "543d56f2",
   "metadata": {},
   "outputs": [
    {
     "data": {
      "text/latex": [
       "$\\displaystyle - \\left(R - S\\right) \\left(8 R S^{2} - 8 R S + R - 4 S^{2} + 3 S\\right)$"
      ],
      "text/plain": [
       "-(R - S)*(8*R*S**2 - 8*R*S + R - 4*S**2 + 3*S)"
      ]
     },
     "execution_count": 5,
     "metadata": {},
     "output_type": "execute_result"
    }
   ],
   "source": [
    "result.simplify().factor()"
   ]
  },
  {
   "cell_type": "code",
   "execution_count": null,
   "id": "4b5aae08",
   "metadata": {},
   "outputs": [],
   "source": []
  }
 ],
 "metadata": {
  "kernelspec": {
   "display_name": "Python 3 (ipykernel)",
   "language": "python",
   "name": "python3"
  },
  "language_info": {
   "codemirror_mode": {
    "name": "ipython",
    "version": 3
   },
   "file_extension": ".py",
   "mimetype": "text/x-python",
   "name": "python",
   "nbconvert_exporter": "python",
   "pygments_lexer": "ipython3",
   "version": "3.10.4"
  }
 },
 "nbformat": 4,
 "nbformat_minor": 5
}
